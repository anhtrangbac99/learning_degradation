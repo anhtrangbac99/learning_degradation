{
 "cells": [
  {
   "cell_type": "code",
   "execution_count": 2,
   "id": "84ac50e8-5369-49cb-9d31-f8cc8010205b",
   "metadata": {},
   "outputs": [
    {
     "name": "stdout",
     "output_type": "stream",
     "text": [
      "/export/home2/capd0001/ImageRestoration/degradation_learning/learning_degradation\n"
     ]
    }
   ],
   "source": [
    "cd ImageRestoration/degradation_learning/learning_degradation/"
   ]
  },
  {
   "cell_type": "code",
   "execution_count": 30,
   "id": "3b96a982-c9c1-4404-b843-f5eac599e808",
   "metadata": {},
   "outputs": [],
   "source": [
    "import torch\n",
    "from torchvision import transforms\n",
    "from PIL import Image"
   ]
  },
  {
   "cell_type": "code",
   "execution_count": 25,
   "id": "0f131563-245f-4a2e-9f21-d2fd0c4dadd4",
   "metadata": {},
   "outputs": [],
   "source": [
    "from basicsr.models.archs.encoder import ConvEncoder"
   ]
  },
  {
   "cell_type": "code",
   "execution_count": 26,
   "id": "1a0c7055-c7fd-4373-b2dc-d98fbb3577fe",
   "metadata": {},
   "outputs": [],
   "source": [
    "net = ConvEncoder()"
   ]
  },
  {
   "cell_type": "code",
   "execution_count": 27,
   "id": "d93a82fc-8c0c-4f7a-957c-3f2b879366b6",
   "metadata": {},
   "outputs": [],
   "source": [
    "state_dict = torch.load(\"./checkpoints/net_E.pth\")"
   ]
  },
  {
   "cell_type": "code",
   "execution_count": 28,
   "id": "45be440d-77dc-4658-8d52-ac38746f5e2f",
   "metadata": {},
   "outputs": [
    {
     "data": {
      "text/plain": [
       "<All keys matched successfully>"
      ]
     },
     "execution_count": 28,
     "metadata": {},
     "output_type": "execute_result"
    }
   ],
   "source": [
    "net.load_state_dict(state_dict)"
   ]
  },
  {
   "cell_type": "code",
   "execution_count": 33,
   "id": "c8966481-2f7d-4e6d-aff9-a140811dfa0b",
   "metadata": {},
   "outputs": [],
   "source": [
    "img1 = Image.open('datasets/GOPRO/train/GOPR0372_07_00/blur/000047.png')\n",
    "trans = transforms.Compose([\n",
    "        transforms.Resize((256,256)),\n",
    "        transforms.ToTensor(),\n",
    "        transforms.Normalize((0.5, 0.5, 0.5), (0.5, 0.5, 0.5)),\n",
    "        ])\n",
    "img1 = trans(img1)"
   ]
  },
  {
   "cell_type": "code",
   "execution_count": 38,
   "id": "26770d7d-1ed7-4dbd-9031-2f5490dd0e1c",
   "metadata": {},
   "outputs": [],
   "source": [
    "emb = net(img1.unsqueeze(0))"
   ]
  },
  {
   "cell_type": "code",
   "execution_count": 42,
   "id": "8dd2861b-f30d-4ce1-88c2-86b23509fbc8",
   "metadata": {},
   "outputs": [],
   "source": [
    "class ConditionalEmbedding(nn.Module):\n",
    "    def __init__(self, num_labels:int, d_model:int, dim:int):\n",
    "        assert d_model % 2 == 0\n",
    "        super().__init__()\n",
    "        self.condEmbedding = nn.Sequential(\n",
    "            nn.Embedding(num_embeddings=num_labels + 1, embedding_dim=d_model, padding_idx=0),\n",
    "            nn.Linear(d_model, dim),\n",
    "            nn.SiLU(),\n",
    "            nn.Linear(dim, dim),\n",
    "        )\n",
    "\n",
    "    def forward(self, t:torch.Tensor) -> torch.Tensor:\n",
    "        emb = self.condEmbedding(t)\n",
    "        return emb"
   ]
  },
  {
   "cell_type": "code",
   "execution_count": null,
   "id": "6ce4d343-3497-4879-a882-0001c96b095e",
   "metadata": {},
   "outputs": [],
   "source": [
    "cemblayer = ConditionalEmbedding(10,32,params.modch).to(device)"
   ]
  }
 ],
 "metadata": {
  "kernelspec": {
   "display_name": "science",
   "language": "python",
   "name": "science"
  },
  "language_info": {
   "codemirror_mode": {
    "name": "ipython",
    "version": 3
   },
   "file_extension": ".py",
   "mimetype": "text/x-python",
   "name": "python",
   "nbconvert_exporter": "python",
   "pygments_lexer": "ipython3",
   "version": "3.10.11"
  }
 },
 "nbformat": 4,
 "nbformat_minor": 5
}
